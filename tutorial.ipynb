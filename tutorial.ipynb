{
 "cells": [
  {
   "cell_type": "markdown",
   "id": "8f10637b-a357-4cfe-9e83-9cd54c9a26bb",
   "metadata": {},
   "source": [
    "# Tutorial for GravothermalSIDM"
   ]
  },
  {
   "cell_type": "code",
   "execution_count": 1,
   "id": "conservative-energy",
   "metadata": {},
   "outputs": [],
   "source": [
    "import os\n",
    "import glob\n",
    "\n",
    "from SourcePy.evolve import Halo\n",
    "from SourcePy.record import HaloRecord\n",
    "import astropy.units as ut\n",
    "\n",
    "import matplotlib\n",
    "import matplotlib.pyplot as plt"
   ]
  },
  {
   "cell_type": "markdown",
   "id": "f640ac05-2592-456d-83a6-e946fd1379b1",
   "metadata": {},
   "source": [
    "## Initialize halo and halo record\n",
    "Create an instance of the `HaloRecord` class, which handles the file I/O. The instance requires a path (relative or absolute) to a directory in which files generated from the `Halo` class are to be saved. As an example, store the halo data in a subdirectory 'tutorial', which exists within a 'Data' directory."
   ]
  },
  {
   "cell_type": "code",
   "execution_count": 2,
   "id": "8fff65fc-5cea-4255-8656-8d82521b295d",
   "metadata": {},
   "outputs": [],
   "source": [
    "hrec = HaloRecord('Data/tutorial')"
   ]
  },
  {
   "cell_type": "markdown",
   "id": "1490a9e8-1414-4a7d-89e5-7cf9e7d17980",
   "metadata": {},
   "source": [
    "Use the instance of `HaloRecord` to initialize the instance of the `Halo` class, which handles solving the gravothermal evolution equations for the halo. All other inputs and their defaults are explained in the documentation for the `Halo` class.\n",
    "\n",
    "Creating the instance of `Halo` creates the necessary directory structure (if needed) and saves the initialization file."
   ]
  },
  {
   "cell_type": "code",
   "execution_count": 3,
   "id": "serious-scroll",
   "metadata": {
    "scrolled": true
   },
   "outputs": [
    {
     "name": "stdout",
     "output_type": "stream",
     "text": [
      "~~~~~ Creating new halo tutorial\n"
     ]
    }
   ],
   "source": [
    "hevo = Halo(hrec, flag_hydrostatic_initial=True)"
   ]
  },
  {
   "cell_type": "markdown",
   "id": "8bb02fe8-7a97-4dab-9688-e78ad7f9c33a",
   "metadata": {},
   "source": [
    "## Evolve halo"
   ]
  },
  {
   "cell_type": "markdown",
   "id": "27739916-27ce-4c80-8e68-4789215ce3b0",
   "metadata": {},
   "source": [
    "Evolve the halo with a given (dimensionless) end time and particular frequency for saving halo state pickle files. It should take a couple minutes to run, producing 15 pickle files for these input run parameters."
   ]
  },
  {
   "cell_type": "code",
   "execution_count": 4,
   "id": "electrical-signal",
   "metadata": {},
   "outputs": [
    {
     "name": "stdout",
     "output_type": "stream",
     "text": [
      "Success: Evolution has reached dimensionless time 10.00002700858109\n"
     ]
    }
   ],
   "source": [
    "hevo.evolve_halo(t_end=10, save_frequency_rate=10)"
   ]
  },
  {
   "cell_type": "markdown",
   "id": "90fc30f0-2f19-45b2-9aaa-add7d74c3fbb",
   "metadata": {},
   "source": [
    "Once the halo evolution is complete, check the evolution time in Gyr."
   ]
  },
  {
   "cell_type": "code",
   "execution_count": 5,
   "id": "educational-health",
   "metadata": {},
   "outputs": [
    {
     "data": {
      "text/plain": [
       "np.float64(0.30196833873165563)"
      ]
     },
     "execution_count": 5,
     "metadata": {},
     "output_type": "execute_result"
    }
   ],
   "source": [
    "hevo.get_dimensionful_quantity('t',ut.Gyr)"
   ]
  },
  {
   "cell_type": "markdown",
   "id": "96015be8-4910-4710-9aba-92d6cede273c",
   "metadata": {},
   "source": [
    "With the latest halo state currently loaded, the evolution can be continued."
   ]
  },
  {
   "cell_type": "code",
   "execution_count": 6,
   "id": "9ad7447b-f074-4cf0-8e31-1457f34bcf72",
   "metadata": {},
   "outputs": [
    {
     "name": "stdout",
     "output_type": "stream",
     "text": [
      "Success: Evolution has reached dimensionless time 12.00005183861561\n"
     ]
    }
   ],
   "source": [
    "hevo.evolve_halo(t_end=12, save_frequency_rate=10)"
   ]
  },
  {
   "cell_type": "markdown",
   "id": "f930b0a4-ce43-4ca2-936a-ea2609b038b5",
   "metadata": {},
   "source": [
    "Load any pickle file to restore the associated halo state. If the given pickle file does not exist, the pickle file that is the closest in time is located and loaded."
   ]
  },
  {
   "cell_type": "code",
   "execution_count": 7,
   "id": "366630c1-6a36-47f6-8637-b46b2a3cad60",
   "metadata": {},
   "outputs": [
    {
     "name": "stdout",
     "output_type": "stream",
     "text": [
      "~~~~~ Recovered pickled halo state for tutorial, with t=5.991225559579332\n"
     ]
    },
    {
     "data": {
      "text/plain": [
       "True"
      ]
     },
     "execution_count": 7,
     "metadata": {},
     "output_type": "execute_result"
    }
   ],
   "source": [
    "hevo.load_halo('time5d991225559579332.pickle')"
   ]
  },
  {
   "cell_type": "markdown",
   "id": "1e1c56a6-325b-4337-8cf4-ab96763ed1f1",
   "metadata": {},
   "source": [
    "To get a sense for the step size taken in time during the evolution versus how often files are saved, check how many heat conduction steps were taken to get to this particular halo state, and check what the dimensionless time was for the previous solving step."
   ]
  },
  {
   "cell_type": "code",
   "execution_count": 8,
   "id": "90646aff-135e-47b2-af55-0d72d07a508f",
   "metadata": {},
   "outputs": [
    {
     "name": "stdout",
     "output_type": "stream",
     "text": [
      "283249\n",
      "5.9911862833248195\n"
     ]
    }
   ],
   "source": [
    "print(hevo.n_conduction)\n",
    "print(hevo.t_before)"
   ]
  },
  {
   "cell_type": "markdown",
   "id": "88373eed-55f4-4a11-8dd3-9b40500d28c3",
   "metadata": {},
   "source": [
    "If the frequency of file saving was not sufficient, gaps can be filled by loading an intermediate halo state and starting the evolution again with a higher file-saving frequency."
   ]
  },
  {
   "cell_type": "code",
   "execution_count": 9,
   "id": "15e2c3d0-180d-4d3a-96e1-7aac3cd57e50",
   "metadata": {},
   "outputs": [
    {
     "name": "stdout",
     "output_type": "stream",
     "text": [
      "Success: Evolution has reached dimensionless time 6.730016749551392\n"
     ]
    }
   ],
   "source": [
    "hevo.evolve_halo(t_end=6.73,save_frequency_timing=0.02) # t_end roughly corresponds to time of next currently saved file"
   ]
  },
  {
   "cell_type": "markdown",
   "id": "9982d152-359a-4657-9291-e7e485640de5",
   "metadata": {},
   "source": [
    "Halo states can be loaded based on approximate dimensionless time."
   ]
  },
  {
   "cell_type": "code",
   "execution_count": 10,
   "id": "23afce57-af9a-41ca-9bb7-d69b2a05bf30",
   "metadata": {},
   "outputs": [
    {
     "name": "stdout",
     "output_type": "stream",
     "text": [
      "~~~~~ Recovered pickled halo state for tutorial, with t=11.23354674625274\n"
     ]
    },
    {
     "data": {
      "text/plain": [
       "True"
      ]
     },
     "execution_count": 10,
     "metadata": {},
     "output_type": "execute_result"
    }
   ],
   "source": [
    "hevo.load_halo(None,time=11.5)"
   ]
  },
  {
   "cell_type": "markdown",
   "id": "1f18e2b9-7380-46c9-87e0-73df48e6a91d",
   "metadata": {},
   "source": [
    "Once all the needed halo state pickle files have been generated, combine the information in the existing pickle files to create an archived record in HDF5 format, which is more suitable for long-term preservation and for sharing. Once the archive file is generated, the pickle files are no longer needed to recover halo states."
   ]
  },
  {
   "cell_type": "code",
   "execution_count": 11,
   "id": "da0d0a83-4442-43ce-9d34-c15fc8ed4439",
   "metadata": {},
   "outputs": [],
   "source": [
    "if not os.path.isfile(hrec.path_archive): # avoid overwriting existing archive\n",
    "    hrec.create_archive()"
   ]
  },
  {
   "cell_type": "code",
   "execution_count": 12,
   "id": "40d19c16-8854-4848-8626-ee5553389b14",
   "metadata": {},
   "outputs": [],
   "source": [
    "for f in glob.glob(os.path.join(hrec.dir_data,'*.pickle')):\n",
    "    os.remove(f)"
   ]
  },
  {
   "cell_type": "code",
   "execution_count": 13,
   "id": "450dc226-d3d9-4783-bf0c-d503aa6b4767",
   "metadata": {},
   "outputs": [
    {
     "name": "stdout",
     "output_type": "stream",
     "text": [
      "~~~~~ Recovered archived halo state for tutorial, with t=2.995626613222693\n"
     ]
    },
    {
     "data": {
      "text/plain": [
       "True"
      ]
     },
     "execution_count": 13,
     "metadata": {},
     "output_type": "execute_result"
    }
   ],
   "source": [
    "hevo.load_halo(None,time=3.2)"
   ]
  },
  {
   "cell_type": "markdown",
   "id": "20a850b6-331b-49fc-896c-23858aae881a",
   "metadata": {},
   "source": [
    "## Plot halo quantities"
   ]
  },
  {
   "cell_type": "markdown",
   "id": "bdff512d-cb24-40cd-a87c-b6da82d66ab4",
   "metadata": {},
   "source": [
    "Plot the halo profile, comparing the initial profile (as well as the original input profile, before any potential initial hydrostatic adjustments) with the final profile."
   ]
  },
  {
   "cell_type": "code",
   "execution_count": 14,
   "id": "6e7c35c5-3042-4f2b-8ae6-5f562b378665",
   "metadata": {},
   "outputs": [
    {
     "name": "stdout",
     "output_type": "stream",
     "text": [
      "~~~~~ Recovered archived halo state for tutorial, with t=12.00005183861561\n",
      "~~~~~ Recovered archived halo state for tutorial, with t=0.0\n"
     ]
    },
    {
     "data": {
      "text/plain": [
       "<matplotlib.legend.Legend at 0x125cc1e80>"
      ]
     },
     "execution_count": 14,
     "metadata": {},
     "output_type": "execute_result"
    },
    {
     "data": {
      "image/png": "[encoded data removed]",
      "text/plain": [
       "<Figure size 640x480 with 1 Axes>"
      ]
     },
     "metadata": {},
     "output_type": "display_data"
    }
   ],
   "source": [
    "f,ax = plt.subplots()\n",
    "\n",
    "hevo.load_halo(None,time=None)\n",
    "ax.plot(hevo.r, hevo.rho, '-r', label='t={}'.format(hevo.t))\n",
    "\n",
    "hevo.load_halo(None,time=0)\n",
    "ax.plot(hevo.r, hevo.rho, '-b', label='t={}'.format(hevo.t))\n",
    "\n",
    "halo_ini_input, original_state = hevo.record.get_halo_initialization()\n",
    "ax.plot(original_state['r'], original_state['rho'], ':k', label='original input')\n",
    "\n",
    "ax.set_xscale('log')\n",
    "ax.set_yscale('log')\n",
    "ax.set_xlabel('dimensionless radius')\n",
    "ax.set_ylabel('dimensionless energy density')\n",
    "ax.legend()"
   ]
  },
  {
   "cell_type": "markdown",
   "id": "5e744286-c4b3-4a15-9b34-b594bdad7220",
   "metadata": {},
   "source": [
    "Plot the halo profile using dimensionful units."
   ]
  },
  {
   "cell_type": "code",
   "execution_count": 15,
   "id": "c1b04885-6fd4-4f32-8a9b-59159b95744e",
   "metadata": {},
   "outputs": [
    {
     "name": "stdout",
     "output_type": "stream",
     "text": [
      "~~~~~ Recovered archived halo state for tutorial, with t=12.00005183861561\n",
      "~~~~~ Recovered archived halo state for tutorial, with t=0.0\n"
     ]
    },
    {
     "data": {
      "text/plain": [
       "<matplotlib.legend.Legend at 0x126097c50>"
      ]
     },
     "execution_count": 15,
     "metadata": {},
     "output_type": "execute_result"
    },
    {
     "data": {
      "image/png": "[encoded data removed]",
      "text/plain": [
       "<Figure size 640x480 with 1 Axes>"
      ]
     },
     "metadata": {},
     "output_type": "display_data"
    }
   ],
   "source": [
    "f,ax = plt.subplots()\n",
    "\n",
    "hevo.load_halo(None,time=None)\n",
    "radius  = hevo.get_dimensionful_quantity('r',ut.kpc)\n",
    "density = hevo.get_dimensionful_quantity('rho',ut.M_sun/ut.pc**3)\n",
    "ax.plot(radius, density, '-r', label='t={}'.format(hevo.t))\n",
    "\n",
    "hevo.load_halo(None,time=0)\n",
    "radius  = hevo.get_dimensionful_quantity('r',ut.kpc)\n",
    "density = hevo.get_dimensionful_quantity('rho',ut.M_sun/ut.pc**3)\n",
    "ax.plot(radius, density, '-b', label='t={}'.format(hevo.t))\n",
    "\n",
    "ax.set_xscale('log')\n",
    "ax.set_yscale('log')\n",
    "ax.set_xlabel('radius [kpc]')\n",
    "ax.set_ylabel('energy density [Msun/pc^3]')\n",
    "ax.legend()"
   ]
  },
  {
   "cell_type": "markdown",
   "id": "6b7a85e1-576b-43f9-9a86-52fb6a4ce822",
   "metadata": {},
   "source": [
    "Plot the evolution of the central density. For the evolution of halo properties, it is better to load the full archive table once and slice the data as needed."
   ]
  },
  {
   "cell_type": "code",
   "execution_count": 16,
   "id": "b78a80ac-7c38-4a51-a1d6-3bc1ff5bf6ba",
   "metadata": {},
   "outputs": [
    {
     "data": {
      "text/plain": [
       "Text(0, 0.5, 'rho0 / rho0_init')"
      ]
     },
     "execution_count": 16,
     "metadata": {},
     "output_type": "execute_result"
    },
    {
     "data": {
      "image/png": "[encoded data removed]",
      "text/plain": [
       "<Figure size 640x480 with 1 Axes>"
      ]
     },
     "metadata": {},
     "output_type": "display_data"
    }
   ],
   "source": [
    "archive = hrec.get_archive()\n",
    "rho_center = [hevo.get_central_quantity(archive['rho'][i,:]) for i in range(archive['rho'].shape[0])]\n",
    "\n",
    "f,ax = plt.subplots()\n",
    "ax.plot(archive['t'],rho_center/rho_center[0])\n",
    "ax.set_xlabel('dimensionless time')\n",
    "ax.set_ylabel('rho0 / rho0_init')"
   ]
  },
  {
   "cell_type": "code",
   "execution_count": null,
   "id": "7429f504-1052-4923-9f0e-b7dfcad79ced",
   "metadata": {},
   "outputs": [],
   "source": []
  }
 ],
 "metadata": {
  "kernelspec": {
   "display_name": "Python 3 (ipykernel)",
   "language": "python",
   "name": "python3"
  },
  "language_info": {
   "codemirror_mode": {
    "name": "ipython",
    "version": 3
   },
   "file_extension": ".py",
   "mimetype": "text/x-python",
   "name": "python",
   "nbconvert_exporter": "python",
   "pygments_lexer": "ipython3",
   "version": "3.13.3"
  }
 },
 "nbformat": 4,
 "nbformat_minor": 5
}
